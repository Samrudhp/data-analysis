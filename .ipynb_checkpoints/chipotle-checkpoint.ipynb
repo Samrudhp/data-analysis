{
 "cells": [
  {
   "cell_type": "code",
   "execution_count": 1,
   "id": "03fcb58c-35af-4b77-b7cc-6841f1e9e750",
   "metadata": {},
   "outputs": [],
   "source": [
    "import pandas as pd"
   ]
  },
  {
   "cell_type": "code",
   "execution_count": 2,
   "id": "328d3fef-bf01-420c-af32-2e23ff43868c",
   "metadata": {},
   "outputs": [],
   "source": [
    "df = pd.read_csv('chipotle.csv')"
   ]
  },
  {
   "cell_type": "code",
   "execution_count": 3,
   "id": "b09c5dbc-d551-4b10-b9dd-b620274439bc",
   "metadata": {},
   "outputs": [
    {
     "data": {
      "text/html": [
       "<div>\n",
       "<style scoped>\n",
       "    .dataframe tbody tr th:only-of-type {\n",
       "        vertical-align: middle;\n",
       "    }\n",
       "\n",
       "    .dataframe tbody tr th {\n",
       "        vertical-align: top;\n",
       "    }\n",
       "\n",
       "    .dataframe thead th {\n",
       "        text-align: right;\n",
       "    }\n",
       "</style>\n",
       "<table border=\"1\" class=\"dataframe\">\n",
       "  <thead>\n",
       "    <tr style=\"text-align: right;\">\n",
       "      <th></th>\n",
       "      <th>order_id</th>\n",
       "      <th>quantity</th>\n",
       "      <th>item_name</th>\n",
       "      <th>choice_description</th>\n",
       "      <th>item_price</th>\n",
       "    </tr>\n",
       "  </thead>\n",
       "  <tbody>\n",
       "    <tr>\n",
       "      <th>0</th>\n",
       "      <td>1</td>\n",
       "      <td>1</td>\n",
       "      <td>Chips and Fresh Tomato Salsa</td>\n",
       "      <td>NaN</td>\n",
       "      <td>$2.39</td>\n",
       "    </tr>\n",
       "    <tr>\n",
       "      <th>1</th>\n",
       "      <td>1</td>\n",
       "      <td>1</td>\n",
       "      <td>Izze</td>\n",
       "      <td>[Clementine]</td>\n",
       "      <td>$3.39</td>\n",
       "    </tr>\n",
       "    <tr>\n",
       "      <th>2</th>\n",
       "      <td>1</td>\n",
       "      <td>1</td>\n",
       "      <td>Nantucket Nectar</td>\n",
       "      <td>[Apple]</td>\n",
       "      <td>$3.39</td>\n",
       "    </tr>\n",
       "    <tr>\n",
       "      <th>3</th>\n",
       "      <td>1</td>\n",
       "      <td>1</td>\n",
       "      <td>Chips and Tomatillo-Green Chili Salsa</td>\n",
       "      <td>NaN</td>\n",
       "      <td>$2.39</td>\n",
       "    </tr>\n",
       "    <tr>\n",
       "      <th>4</th>\n",
       "      <td>2</td>\n",
       "      <td>2</td>\n",
       "      <td>Chicken Bowl</td>\n",
       "      <td>[Tomatillo-Red Chili Salsa (Hot), [Black Beans...</td>\n",
       "      <td>$16.98</td>\n",
       "    </tr>\n",
       "  </tbody>\n",
       "</table>\n",
       "</div>"
      ],
      "text/plain": [
       "   order_id  quantity                              item_name  \\\n",
       "0         1         1           Chips and Fresh Tomato Salsa   \n",
       "1         1         1                                   Izze   \n",
       "2         1         1                       Nantucket Nectar   \n",
       "3         1         1  Chips and Tomatillo-Green Chili Salsa   \n",
       "4         2         2                           Chicken Bowl   \n",
       "\n",
       "                                  choice_description item_price  \n",
       "0                                                NaN     $2.39   \n",
       "1                                       [Clementine]     $3.39   \n",
       "2                                            [Apple]     $3.39   \n",
       "3                                                NaN     $2.39   \n",
       "4  [Tomatillo-Red Chili Salsa (Hot), [Black Beans...    $16.98   "
      ]
     },
     "execution_count": 3,
     "metadata": {},
     "output_type": "execute_result"
    }
   ],
   "source": [
    "df.head()"
   ]
  },
  {
   "cell_type": "code",
   "execution_count": 5,
   "id": "cf039811-1e2c-40e4-a361-b9db2c1ca603",
   "metadata": {},
   "outputs": [],
   "source": [
    "df['item_price'] = df['item_price'].replace('[\\$,]', '', regex=True).astype(float)"
   ]
  },
  {
   "cell_type": "code",
   "execution_count": 6,
   "id": "5c21d887-853f-4638-8e2b-b277a65ba077",
   "metadata": {},
   "outputs": [
    {
     "name": "stdout",
     "output_type": "stream",
     "text": [
      "1834\n"
     ]
    }
   ],
   "source": [
    "print(df['order_id'].nunique())"
   ]
  },
  {
   "cell_type": "code",
   "execution_count": 8,
   "id": "8a2ab8b5-10cd-4e2a-af69-4691628a3df2",
   "metadata": {},
   "outputs": [
    {
     "name": "stdout",
     "output_type": "stream",
     "text": [
      "18.811428571428568\n"
     ]
    }
   ],
   "source": [
    "average_revenue = df.groupby('order_id')['item_price'].sum().mean()\n",
    "print(average_revenue)"
   ]
  },
  {
   "cell_type": "code",
   "execution_count": 12,
   "id": "d80a4c39-6056-4f3f-bd3a-7ded672b9eae",
   "metadata": {},
   "outputs": [
    {
     "name": "stdout",
     "output_type": "stream",
     "text": [
      "item_name\n",
      "Chicken Bowl           761\n",
      "Chicken Burrito        591\n",
      "Chips and Guacamole    506\n",
      "Steak Burrito          386\n",
      "Canned Soft Drink      351\n",
      "Name: quantity, dtype: int64\n"
     ]
    }
   ],
   "source": [
    "print(df.groupby('item_name')['quantity'].sum().sort_values(ascending=False).head(5))"
   ]
  },
  {
   "cell_type": "code",
   "execution_count": 13,
   "id": "0fab451f-db0c-454c-ab52-83e0c350854a",
   "metadata": {},
   "outputs": [
    {
     "name": "stdout",
     "output_type": "stream",
     "text": [
      "1043\n"
     ]
    }
   ],
   "source": [
    "print(df['choice_description'].nunique())"
   ]
  },
  {
   "cell_type": "code",
   "execution_count": 14,
   "id": "c0f5cff5-dbe3-4b7e-a0f7-344d279499f8",
   "metadata": {},
   "outputs": [
    {
     "name": "stdout",
     "output_type": "stream",
     "text": [
      "\n",
      "5. Order ID with highest bill: 926, Amount: $205.25\n"
     ]
    }
   ],
   "source": [
    "total_bill = df.groupby('order_id')['item_price'].sum()\n",
    "highest_order = total_bill.idxmax()\n",
    "highest_amount = total_bill.max()\n",
    "print(f\"\\n5. Order ID with highest bill: {highest_order}, Amount: ${highest_amount:.2f}\")"
   ]
  },
  {
   "cell_type": "code",
   "execution_count": 15,
   "id": "df4057a8-999b-49b3-8ccd-7d9fa8c0d43f",
   "metadata": {},
   "outputs": [
    {
     "name": "stdout",
     "output_type": "stream",
     "text": [
      "\n",
      "6. Items with inconsistent pricing:\n",
      " item_name\n",
      "6 Pack Soft Drink                         2\n",
      "Barbacoa Bowl                             6\n",
      "Barbacoa Burrito                          6\n",
      "Barbacoa Crispy Tacos                     5\n",
      "Barbacoa Salad Bowl                       2\n",
      "Barbacoa Soft Tacos                       4\n",
      "Bottled Water                            10\n",
      "Bowl                                      2\n",
      "Canned Soda                               3\n",
      "Canned Soft Drink                         4\n",
      "Carnitas Bowl                             7\n",
      "Carnitas Burrito                          7\n",
      "Carnitas Crispy Tacos                     4\n",
      "Carnitas Salad Bowl                       2\n",
      "Carnitas Soft Tacos                       3\n",
      "Chicken Bowl                             13\n",
      "Chicken Burrito                          12\n",
      "Chicken Crispy Tacos                      6\n",
      "Chicken Salad                             3\n",
      "Chicken Salad Bowl                        4\n",
      "Chicken Soft Tacos                        7\n",
      "Chips                                     4\n",
      "Chips and Fresh Tomato Salsa              6\n",
      "Chips and Guacamole                       9\n",
      "Chips and Roasted Chili Corn Salsa        2\n",
      "Chips and Tomatillo Green Chili Salsa     2\n",
      "Chips and Tomatillo Red Chili Salsa       2\n",
      "Chips and Tomatillo-Green Chili Salsa     2\n",
      "Chips and Tomatillo-Red Chili Salsa       3\n",
      "Nantucket Nectar                          2\n",
      "Side of Chips                             3\n",
      "Steak Bowl                               10\n",
      "Steak Burrito                            12\n",
      "Steak Crispy Tacos                        5\n",
      "Steak Salad                               2\n",
      "Steak Salad Bowl                          3\n",
      "Steak Soft Tacos                          5\n",
      "Veggie Bowl                               5\n",
      "Veggie Burrito                            5\n",
      "Veggie Salad Bowl                         2\n",
      "Veggie Soft Tacos                         4\n",
      "Name: item_price, dtype: int64\n"
     ]
    }
   ],
   "source": [
    "inconsistent_pricing = df.groupby('item_name')['item_price'].nunique()\n",
    "inconsistent_items = inconsistent_pricing[inconsistent_pricing > 1]\n",
    "print(\"\\n6. Items with inconsistent pricing:\\n\", inconsistent_items)"
   ]
  },
  {
   "cell_type": "code",
   "execution_count": 18,
   "id": "f7930a57-5fe3-47bf-a044-50dfdf0e09f9",
   "metadata": {},
   "outputs": [
    {
     "name": "stdout",
     "output_type": "stream",
     "text": [
      "      order_id  quantity                     item_name choice_description  \\\n",
      "3598      1443        15  Chips and Fresh Tomato Salsa                NaN   \n",
      "3599      1443         7                 Bottled Water                NaN   \n",
      "3887      1559         8                 Side of Chips                NaN   \n",
      "4152      1660        10                 Bottled Water                NaN   \n",
      "\n",
      "      item_price  \n",
      "3598       44.25  \n",
      "3599       10.50  \n",
      "3887       13.52  \n",
      "4152       15.00  \n"
     ]
    }
   ],
   "source": [
    "print(df[df['quantity']>5])"
   ]
  },
  {
   "cell_type": "code",
   "execution_count": 19,
   "id": "90331428-e739-4caa-b4ae-b2b085f5a008",
   "metadata": {},
   "outputs": [
    {
     "name": "stdout",
     "output_type": "stream",
     "text": [
      "\n",
      "8. Average price of an item: $ 7.08\n"
     ]
    }
   ],
   "source": [
    "df['price_per_item'] = df['item_price'] / df['quantity']\n",
    "average_item_price = df['price_per_item'].mean()\n",
    "print(\"\\n8. Average price of an item: $\", round(average_item_price, 2))\n"
   ]
  },
  {
   "cell_type": "code",
   "execution_count": 20,
   "id": "b62147ea-d68d-4992-b68f-314b0a18d1ac",
   "metadata": {},
   "outputs": [
    {
     "name": "stdout",
     "output_type": "stream",
     "text": [
      "\n",
      "9. Unique item prices and their items:\n",
      " price_per_item\n",
      "1.09                          [Canned Soda, Bottled Water]\n",
      "1.25                                   [Canned Soft Drink]\n",
      "1.50                                       [Bottled Water]\n",
      "1.69                                       [Side of Chips]\n",
      "1.69                                       [Side of Chips]\n",
      "1.99                                               [Chips]\n",
      "2.15                                               [Chips]\n",
      "2.29                        [Chips and Fresh Tomato Salsa]\n",
      "2.39     [Chips and Fresh Tomato Salsa, Chips and Tomat...\n",
      "2.95     [Chips and Tomatillo Green Chili Salsa, Chips ...\n",
      "3.00                   [Chips and Mild Fresh Tomato Salsa]\n",
      "3.39                              [Izze, Nantucket Nectar]\n",
      "3.89                                 [Chips and Guacamole]\n",
      "3.99                                 [Chips and Guacamole]\n",
      "4.00                                 [Chips and Guacamole]\n",
      "4.25                                 [Chips and Guacamole]\n",
      "4.45                                 [Chips and Guacamole]\n",
      "6.49                                   [6 Pack Soft Drink]\n",
      "7.40                                                [Bowl]\n",
      "7.40                  [Burrito, Crispy Tacos, Bowl, Salad]\n",
      "8.19        [Chicken Burrito, Chicken Bowl, Chicken Salad]\n",
      "8.49     [Chicken Bowl, Chicken Burrito, Veggie Bowl, V...\n",
      "8.50                                        [Chicken Bowl]\n",
      "8.69     [Steak Burrito, Steak Crispy Tacos, Steak Bowl...\n",
      "8.75     [Chicken Crispy Tacos, Chicken Soft Tacos, Chi...\n",
      "8.99     [Barbacoa Burrito, Carnitas Burrito, Steak Bur...\n",
      "9.25     [Steak Soft Tacos, Steak Burrito, Barbacoa Sof...\n",
      "9.39     [Steak Salad Bowl, Barbacoa Salad Bowl, Carnit...\n",
      "10.58                      [Chicken Burrito, Chicken Bowl]\n",
      "10.98                                       [Chicken Bowl]\n",
      "10.98    [Chicken Bowl, Chicken Burrito, Chicken Salad,...\n",
      "11.08    [Steak Burrito, Carnitas Bowl, Steak Bowl, Bar...\n",
      "11.25    [Chicken Bowl, Veggie Burrito, Veggie Bowl, Ch...\n",
      "11.48    [Steak Burrito, Carnitas Bowl, Steak Bowl, Bar...\n",
      "11.49                                      [Barbacoa Bowl]\n",
      "11.75    [Steak Burrito, Barbacoa Bowl, Steak Bowl, Car...\n",
      "11.89    [Steak Salad Bowl, Carnitas Salad Bowl, Barbac...\n",
      "Name: item_name, dtype: object\n"
     ]
    }
   ],
   "source": [
    "unique_prices = df.groupby('price_per_item')['item_name'].unique()\n",
    "print(\"\\n9. Unique item prices and their items:\\n\", unique_prices)\n"
   ]
  },
  {
   "cell_type": "code",
   "execution_count": 22,
   "id": "a313a7f1-b85a-437f-9d61-03ee0d67f3c4",
   "metadata": {},
   "outputs": [
    {
     "name": "stdout",
     "output_type": "stream",
     "text": [
      "\n",
      "10. Orders that included Canned Soda:\n",
      "       order_id  quantity    item_name choice_description  item_price  \\\n",
      "18           9         2  Canned Soda           [Sprite]        2.18   \n",
      "28          14         1  Canned Soda       [Dr. Pepper]        1.09   \n",
      "51          23         2  Canned Soda     [Mountain Dew]        2.18   \n",
      "53          24         1  Canned Soda           [Sprite]        1.09   \n",
      "107         47         1  Canned Soda       [Dr. Pepper]        1.09   \n",
      "...        ...       ...          ...                ...         ...   \n",
      "3897      1562         1  Canned Soda     [Mountain Dew]        1.09   \n",
      "3926      1575         1  Canned Soda       [Dr. Pepper]        1.09   \n",
      "3936      1578         1  Canned Soda  [Diet Dr. Pepper]        1.09   \n",
      "4008      1604         1  Canned Soda        [Diet Coke]        1.09   \n",
      "4051      1621         1  Canned Soda           [Sprite]        1.09   \n",
      "\n",
      "      price_per_item  \n",
      "18              1.09  \n",
      "28              1.09  \n",
      "51              1.09  \n",
      "53              1.09  \n",
      "107             1.09  \n",
      "...              ...  \n",
      "3897            1.09  \n",
      "3926            1.09  \n",
      "3936            1.09  \n",
      "4008            1.09  \n",
      "4051            1.09  \n",
      "\n",
      "[104 rows x 6 columns]\n"
     ]
    }
   ],
   "source": [
    "canned_soda_orders = df[df['item_name'].str.contains(\"Canned Soda\", case=False)]\n",
    "print(\"\\n10. Orders that included Canned Soda:\\n\", canned_soda_orders)"
   ]
  },
  {
   "cell_type": "code",
   "execution_count": null,
   "id": "e093554f-50fa-47dc-8383-3df4935676d1",
   "metadata": {},
   "outputs": [],
   "source": []
  }
 ],
 "metadata": {
  "kernelspec": {
   "display_name": "Python 3.10 (Correct)",
   "language": "python",
   "name": "python310"
  },
  "language_info": {
   "codemirror_mode": {
    "name": "ipython",
    "version": 3
   },
   "file_extension": ".py",
   "mimetype": "text/x-python",
   "name": "python",
   "nbconvert_exporter": "python",
   "pygments_lexer": "ipython3",
   "version": "3.10.0rc2"
  }
 },
 "nbformat": 4,
 "nbformat_minor": 5
}
