{
 "cells": [
  {
   "cell_type": "code",
   "execution_count": 2,
   "id": "7ebf8292-cb80-4436-91af-0f51943163bc",
   "metadata": {},
   "outputs": [],
   "source": [
    "import pandas as pd\n",
    "import matplotlib.pyplot as plt\n",
    "\n",
    "# Load the dataset\n",
    "df = pd.read_csv('advanced_pandas_dataset.csv')\n"
   ]
  },
  {
   "cell_type": "code",
   "execution_count": 5,
   "id": "c736a92f-8a1a-4d8e-bc4f-593e82a96327",
   "metadata": {},
   "outputs": [
    {
     "data": {
      "text/html": [
       "<div>\n",
       "<style scoped>\n",
       "    .dataframe tbody tr th:only-of-type {\n",
       "        vertical-align: middle;\n",
       "    }\n",
       "\n",
       "    .dataframe tbody tr th {\n",
       "        vertical-align: top;\n",
       "    }\n",
       "\n",
       "    .dataframe thead th {\n",
       "        text-align: right;\n",
       "    }\n",
       "</style>\n",
       "<table border=\"1\" class=\"dataframe\">\n",
       "  <thead>\n",
       "    <tr style=\"text-align: right;\">\n",
       "      <th></th>\n",
       "      <th>EmployeeID</th>\n",
       "      <th>Department</th>\n",
       "      <th>Gender</th>\n",
       "      <th>Age</th>\n",
       "      <th>JoiningYear</th>\n",
       "      <th>Salary</th>\n",
       "      <th>PerformanceScore</th>\n",
       "      <th>WorkHoursPerWeek</th>\n",
       "      <th>RemoteWork</th>\n",
       "      <th>LeftCompany</th>\n",
       "      <th>Salary_Rank_in_Dept</th>\n",
       "    </tr>\n",
       "  </thead>\n",
       "  <tbody>\n",
       "    <tr>\n",
       "      <th>0</th>\n",
       "      <td>1001</td>\n",
       "      <td>Marketing</td>\n",
       "      <td>Female</td>\n",
       "      <td>44</td>\n",
       "      <td>2022</td>\n",
       "      <td>141884</td>\n",
       "      <td>3</td>\n",
       "      <td>48</td>\n",
       "      <td>0</td>\n",
       "      <td>0</td>\n",
       "      <td>5.0</td>\n",
       "    </tr>\n",
       "    <tr>\n",
       "      <th>1</th>\n",
       "      <td>1002</td>\n",
       "      <td>Sales</td>\n",
       "      <td>Female</td>\n",
       "      <td>23</td>\n",
       "      <td>2017</td>\n",
       "      <td>59285</td>\n",
       "      <td>1</td>\n",
       "      <td>36</td>\n",
       "      <td>0</td>\n",
       "      <td>1</td>\n",
       "      <td>33.0</td>\n",
       "    </tr>\n",
       "    <tr>\n",
       "      <th>2</th>\n",
       "      <td>1003</td>\n",
       "      <td>IT</td>\n",
       "      <td>Female</td>\n",
       "      <td>48</td>\n",
       "      <td>2019</td>\n",
       "      <td>72626</td>\n",
       "      <td>3</td>\n",
       "      <td>49</td>\n",
       "      <td>1</td>\n",
       "      <td>0</td>\n",
       "      <td>24.0</td>\n",
       "    </tr>\n",
       "    <tr>\n",
       "      <th>3</th>\n",
       "      <td>1004</td>\n",
       "      <td>Sales</td>\n",
       "      <td>Male</td>\n",
       "      <td>23</td>\n",
       "      <td>2018</td>\n",
       "      <td>77808</td>\n",
       "      <td>3</td>\n",
       "      <td>35</td>\n",
       "      <td>0</td>\n",
       "      <td>1</td>\n",
       "      <td>26.0</td>\n",
       "    </tr>\n",
       "    <tr>\n",
       "      <th>4</th>\n",
       "      <td>1005</td>\n",
       "      <td>Sales</td>\n",
       "      <td>Male</td>\n",
       "      <td>47</td>\n",
       "      <td>2011</td>\n",
       "      <td>123464</td>\n",
       "      <td>5</td>\n",
       "      <td>30</td>\n",
       "      <td>0</td>\n",
       "      <td>1</td>\n",
       "      <td>9.0</td>\n",
       "    </tr>\n",
       "  </tbody>\n",
       "</table>\n",
       "</div>"
      ],
      "text/plain": [
       "   EmployeeID Department  Gender  Age  JoiningYear  Salary  PerformanceScore  \\\n",
       "0        1001  Marketing  Female   44         2022  141884                 3   \n",
       "1        1002      Sales  Female   23         2017   59285                 1   \n",
       "2        1003         IT  Female   48         2019   72626                 3   \n",
       "3        1004      Sales    Male   23         2018   77808                 3   \n",
       "4        1005      Sales    Male   47         2011  123464                 5   \n",
       "\n",
       "   WorkHoursPerWeek  RemoteWork  LeftCompany  Salary_Rank_in_Dept  \n",
       "0                48           0            0                  5.0  \n",
       "1                36           0            1                 33.0  \n",
       "2                49           1            0                 24.0  \n",
       "3                35           0            1                 26.0  \n",
       "4                30           0            1                  9.0  "
      ]
     },
     "execution_count": 5,
     "metadata": {},
     "output_type": "execute_result"
    }
   ],
   "source": [
    "df.head()"
   ]
  },
  {
   "cell_type": "code",
   "execution_count": 3,
   "id": "bf05c4a9-afb0-4fa7-9fb1-6a6f151b63ec",
   "metadata": {},
   "outputs": [
    {
     "name": "stdout",
     "output_type": "stream",
     "text": [
      "1. Salary rank within department:\n",
      "      EmployeeID Department  Salary  Salary_Rank_in_Dept\n",
      "0          1001  Marketing  141884                  5.0\n",
      "1          1002      Sales   59285                 33.0\n",
      "2          1003         IT   72626                 24.0\n",
      "3          1004      Sales   77808                 26.0\n",
      "4          1005      Sales  123464                  9.0\n",
      "..          ...        ...     ...                  ...\n",
      "195        1196         IT   36605                 36.0\n",
      "196        1197         IT  106158                 16.0\n",
      "197        1198         HR  107303                 18.0\n",
      "198        1199      Sales   62139                 32.0\n",
      "199        1200  Marketing  112149                 17.0\n",
      "\n",
      "[200 rows x 4 columns]\n"
     ]
    }
   ],
   "source": [
    "df['Salary_Rank_in_Dept'] = df.groupby('Department')['Salary'].rank(ascending=False)\n",
    "print(\"1. Salary rank within department:\\n\", df[['EmployeeID', 'Department', 'Salary', 'Salary_Rank_in_Dept']])\n"
   ]
  },
  {
   "cell_type": "code",
   "execution_count": 6,
   "id": "6eb9ef55-9169-4d2e-83c6-c559e5f814a1",
   "metadata": {},
   "outputs": [
    {
     "name": "stdout",
     "output_type": "stream",
     "text": [
      "\n",
      "2. JoiningYear with most active employees: 2014\n"
     ]
    }
   ],
   "source": [
    "most_active_year = df[df['LeftCompany'] == 0]['JoiningYear'].mode().iloc[0]\n",
    "print(\"\\n2. JoiningYear with most active employees:\", most_active_year)\n"
   ]
  },
  {
   "cell_type": "code",
   "execution_count": 7,
   "id": "90f43228-83d2-40be-bbe7-682495117b3e",
   "metadata": {},
   "outputs": [
    {
     "name": "stdout",
     "output_type": "stream",
     "text": [
      "\n",
      "3. Employees over 50 and still working:\n",
      "      EmployeeID Department  Gender  Age  JoiningYear  Salary  \\\n",
      "6          1007         IT  Female   54         2019   54198   \n",
      "10         1011  Marketing    Male   56         2014   36252   \n",
      "15         1016    Finance  Female   57         2010   88682   \n",
      "25         1026         IT  Female   55         2021   41941   \n",
      "27         1028    Finance  Female   53         2022   58386   \n",
      "42         1043  Marketing    Male   51         2013  149825   \n",
      "43         1044    Finance  Female   56         2021   90479   \n",
      "46         1047    Finance    Male   51         2018   54963   \n",
      "52         1053  Marketing  Female   58         2018   40569   \n",
      "71         1072      Sales    Male   58         2014   76240   \n",
      "77         1078  Marketing  Female   51         2011   63732   \n",
      "84         1085         HR  Female   57         2012  138081   \n",
      "85         1086         HR  Female   54         2016   71668   \n",
      "87         1088         HR    Male   58         2020  114252   \n",
      "92         1093         IT    Male   55         2021  128229   \n",
      "93         1094         IT    Male   52         2017   86745   \n",
      "110        1111         HR  Female   56         2020  130257   \n",
      "111        1112         IT  Female   54         2015   99291   \n",
      "124        1125         HR  Female   56         2011  102661   \n",
      "133        1134      Sales  Female   55         2022   40122   \n",
      "147        1148         IT    Male   56         2020  108688   \n",
      "148        1149    Finance  Female   57         2020   73518   \n",
      "150        1151         HR  Female   53         2022   45267   \n",
      "187        1188         HR    Male   52         2016  111090   \n",
      "\n",
      "     PerformanceScore  WorkHoursPerWeek  RemoteWork  LeftCompany  \\\n",
      "6                   2                40           0            0   \n",
      "10                  4                46           1            0   \n",
      "15                  3                37           0            0   \n",
      "25                  1                37           1            0   \n",
      "27                  1                47           0            0   \n",
      "42                  4                32           1            0   \n",
      "43                  2                39           0            0   \n",
      "46                  4                43           0            0   \n",
      "52                  3                30           1            0   \n",
      "71                  5                43           1            0   \n",
      "77                  3                30           0            0   \n",
      "84                  1                30           0            0   \n",
      "85                  2                44           1            0   \n",
      "87                  5                49           1            0   \n",
      "92                  1                41           1            0   \n",
      "93                  2                49           0            0   \n",
      "110                 5                43           1            0   \n",
      "111                 3                38           1            0   \n",
      "124                 5                35           0            0   \n",
      "133                 3                35           0            0   \n",
      "147                 5                40           1            0   \n",
      "148                 2                30           1            0   \n",
      "150                 1                33           0            0   \n",
      "187                 4                32           0            0   \n",
      "\n",
      "     Salary_Rank_in_Dept  \n",
      "6                   28.0  \n",
      "10                  49.0  \n",
      "15                  15.0  \n",
      "25                  33.0  \n",
      "27                  27.0  \n",
      "42                   1.0  \n",
      "43                  12.0  \n",
      "46                  29.0  \n",
      "52                  46.0  \n",
      "71                  28.0  \n",
      "77                  34.0  \n",
      "84                   4.0  \n",
      "85                  29.0  \n",
      "87                  14.0  \n",
      "92                   9.0  \n",
      "93                  22.0  \n",
      "110                  6.0  \n",
      "111                 18.0  \n",
      "124                 20.0  \n",
      "133                 35.0  \n",
      "147                 14.0  \n",
      "148                 21.0  \n",
      "150                 39.0  \n",
      "187                 15.0  \n"
     ]
    }
   ],
   "source": [
    "over_50_working = df[(df['Age'] > 50) & (df['LeftCompany'] == 0)]\n",
    "print(\"\\n3. Employees over 50 and still working:\\n\", over_50_working)\n"
   ]
  },
  {
   "cell_type": "code",
   "execution_count": 8,
   "id": "f267eef4-f786-45f4-8c12-ac57c6d34814",
   "metadata": {},
   "outputs": [
    {
     "name": "stdout",
     "output_type": "stream",
     "text": [
      "\n",
      "4. Average estimated current salary with 5% annual growth: $145151.18\n"
     ]
    }
   ],
   "source": [
    "current_year = pd.Timestamp.now().year\n",
    "df['Years_Worked'] = current_year - df['JoiningYear']\n",
    "df['Estimated_Current_Salary'] = df['Salary'] * ((1.05) ** df['Years_Worked'])\n",
    "avg_growth = df['Estimated_Current_Salary'].mean()\n",
    "print(f\"\\n4. Average estimated current salary with 5% annual growth: ${avg_growth:.2f}\")\n"
   ]
  },
  {
   "cell_type": "code",
   "execution_count": 9,
   "id": "9018e0f5-291b-4280-8937-86d52e17149a",
   "metadata": {},
   "outputs": [
    {
     "name": "stdout",
     "output_type": "stream",
     "text": [
      "\n",
      "5. Average salary per age bin:\n",
      " Age_Bin\n",
      "[20, 30)    86582.666667\n",
      "[30, 40)    93509.192308\n",
      "[40, 50)    97725.964912\n",
      "[50, 60)    86266.879310\n",
      "[60, 70)             NaN\n",
      "Name: Salary, dtype: float64\n"
     ]
    },
    {
     "name": "stderr",
     "output_type": "stream",
     "text": [
      "C:\\Users\\SAMRUDH P\\AppData\\Local\\Temp\\ipykernel_16100\\821058727.py:2: FutureWarning: The default of observed=False is deprecated and will be changed to True in a future version of pandas. Pass observed=False to retain current behavior or observed=True to adopt the future default and silence this warning.\n",
      "  avg_salary_by_age_bin = df.groupby('Age_Bin')['Salary'].mean()\n"
     ]
    }
   ],
   "source": [
    "df['Age_Bin'] = pd.cut(df['Age'], bins=[20, 30, 40, 50, 60, 70], right=False)\n",
    "avg_salary_by_age_bin = df.groupby('Age_Bin')['Salary'].mean()\n",
    "print(\"\\n5. Average salary per age bin:\\n\", avg_salary_by_age_bin)\n"
   ]
  },
  {
   "cell_type": "code",
   "execution_count": 10,
   "id": "ac9ce4af-fccd-4cfb-ab31-24677e3e407b",
   "metadata": {},
   "outputs": [
    {
     "name": "stdout",
     "output_type": "stream",
     "text": [
      "\n",
      "6. Pivot table - employee count:\n",
      " Department   Finance  HR  IT  Marketing  Sales\n",
      "JoiningYear                                   \n",
      "2010               4   6   4          3      4\n",
      "2011               3   4   2          1      3\n",
      "2012               3   2   5          3      2\n",
      "2013               2   3   1          2      2\n",
      "2014               3   3   4          7      4\n",
      "2015               3   4   3          5      4\n",
      "2016               0   2   2          2      3\n",
      "2017               3   1   3          2      3\n",
      "2018               3   4   2          4      1\n",
      "2019               1   5   4          5      1\n",
      "2020               2   2   1          5      0\n",
      "2021               3   3   5          6      3\n",
      "2022               5   4   1          4      6\n"
     ]
    }
   ],
   "source": [
    "pivot = pd.pivot_table(df, index='JoiningYear', columns='Department', values='EmployeeID', aggfunc='count', fill_value=0)\n",
    "print(\"\\n6. Pivot table - employee count:\\n\", pivot)\n"
   ]
  },
  {
   "cell_type": "code",
   "execution_count": 11,
   "id": "92485cda-52f3-437f-83dc-f6006af14fb5",
   "metadata": {},
   "outputs": [
    {
     "name": "stdout",
     "output_type": "stream",
     "text": [
      "\n",
      "7. Remote work count by department:\n",
      " Series([], dtype: int64)\n"
     ]
    }
   ],
   "source": [
    "remote_count = df[df['RemoteWork'] == 'Yes'].groupby('Department').size()\n",
    "print(\"\\n7. Remote work count by department:\\n\", remote_count)\n"
   ]
  },
  {
   "cell_type": "code",
   "execution_count": 12,
   "id": "de936288-2f7b-44b0-9004-45d68e7e6143",
   "metadata": {},
   "outputs": [
    {
     "name": "stdout",
     "output_type": "stream",
     "text": [
      "\n",
      "8. Standard deviation of salary by department:\n",
      " Department\n",
      "Finance      31615.208178\n",
      "HR           33069.106984\n",
      "IT           37485.472178\n",
      "Marketing    37116.211841\n",
      "Sales        33506.082695\n",
      "Name: Salary, dtype: float64\n"
     ]
    }
   ],
   "source": [
    "std_salary = df.groupby('Department')['Salary'].std()\n",
    "print(\"\\n8. Standard deviation of salary by department:\\n\", std_salary)\n"
   ]
  },
  {
   "cell_type": "code",
   "execution_count": 13,
   "id": "f47b9a6d-9737-445d-9d52-be8c35dd5fe1",
   "metadata": {},
   "outputs": [
    {
     "data": {
      "image/png": "[encoded data removed]",
      "text/plain": [
       "<Figure size 800x500 with 1 Axes>"
      ]
     },
     "metadata": {},
     "output_type": "display_data"
    }
   ],
   "source": [
    "plt.figure(figsize=(8, 5))\n",
    "df[df['Gender'] == 'Male']['PerformanceScore'].hist(bins=10, color='skyblue', edgecolor='black')\n",
    "plt.title('Histogram of Performance Score (Male Employees)')\n",
    "plt.xlabel('Performance Score')\n",
    "plt.ylabel('Count')\n",
    "plt.grid(True)\n",
    "plt.tight_layout()\n",
    "plt.show()\n"
   ]
  },
  {
   "cell_type": "code",
   "execution_count": 14,
   "id": "3deeff00-79ac-435d-a336-d9bbb20414ef",
   "metadata": {},
   "outputs": [
    {
     "name": "stdout",
     "output_type": "stream",
     "text": [
      "\n",
      "10a. Avg work hours per week vs. still working:\n",
      " LeftCompany\n",
      "0    39.66\n",
      "1    39.07\n",
      "Name: WorkHoursPerWeek, dtype: float64\n"
     ]
    }
   ],
   "source": [
    "work_hours_leaving = df.groupby('LeftCompany')['WorkHoursPerWeek'].mean()\n",
    "print(\"\\n10a. Avg work hours per week vs. still working:\\n\", work_hours_leaving)\n"
   ]
  },
  {
   "cell_type": "code",
   "execution_count": 16,
   "id": "337cb631-a3d6-4495-9d0a-c3d358c84bea",
   "metadata": {},
   "outputs": [
    {
     "name": "stdout",
     "output_type": "stream",
     "text": [
      "\n",
      "10b. Top 5 highest earners per department:\n",
      "      EmployeeID Department  Salary\n",
      "120        1121    Finance  146317\n",
      "20         1021    Finance  140185\n",
      "48         1049    Finance  137468\n",
      "73         1074    Finance  136570\n",
      "116        1117    Finance  122731\n",
      "94         1095         HR  143464\n",
      "70         1071         HR  143215\n",
      "140        1141         HR  141476\n",
      "84         1085         HR  138081\n",
      "179        1180         HR  135776\n",
      "189        1190         IT  147581\n",
      "106        1107         IT  145698\n",
      "164        1165         IT  143099\n",
      "89         1090         IT  139680\n",
      "160        1161         IT  139592\n",
      "42         1043  Marketing  149825\n",
      "149        1150  Marketing  146076\n",
      "69         1070  Marketing  145951\n",
      "22         1023  Marketing  142825\n",
      "0          1001  Marketing  141884\n",
      "157        1158      Sales  149813\n",
      "126        1127      Sales  149049\n",
      "96         1097      Sales  147428\n",
      "131        1132      Sales  146927\n",
      "83         1084      Sales  146195\n"
     ]
    }
   ],
   "source": [
    "top5_by_dept = df.sort_values(['Department', 'Salary'], ascending=[True, False]).groupby('Department').head(5)\n",
    "print(\"\\n10b. Top 5 highest earners per department:\\n\", top5_by_dept[['EmployeeID', 'Department', 'Salary']])"
   ]
  },
  {
   "cell_type": "code",
   "execution_count": null,
   "id": "3b055e3b-950d-4233-82f7-61479310ce6d",
   "metadata": {},
   "outputs": [],
   "source": []
  }
 ],
 "metadata": {
  "kernelspec": {
   "display_name": "Python 3.10 (Correct)",
   "language": "python",
   "name": "python310"
  },
  "language_info": {
   "codemirror_mode": {
    "name": "ipython",
    "version": 3
   },
   "file_extension": ".py",
   "mimetype": "text/x-python",
   "name": "python",
   "nbconvert_exporter": "python",
   "pygments_lexer": "ipython3",
   "version": "3.10.0rc2"
  }
 },
 "nbformat": 4,
 "nbformat_minor": 5
}
